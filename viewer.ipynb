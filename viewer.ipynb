{
 "metadata": {
  "language_info": {
   "codemirror_mode": {
    "name": "ipython",
    "version": 3
   },
   "file_extension": ".py",
   "mimetype": "text/x-python",
   "name": "python",
   "nbconvert_exporter": "python",
   "pygments_lexer": "ipython3",
   "version": "3.7.3-final"
  },
  "orig_nbformat": 2,
  "kernelspec": {
   "name": "python3",
   "display_name": "Python 3",
   "language": "python"
  }
 },
 "nbformat": 4,
 "nbformat_minor": 2,
 "cells": [
  {
   "cell_type": "code",
   "execution_count": null,
   "metadata": {
    "tags": []
   },
   "outputs": [],
   "source": [
    "%%capture\n",
    "import numpy as np\n",
    "import MCTS\n",
    "import naiveRule\n",
    "%config InlineBackend.figure_formats = ['svg']"
   ]
  },
  {
   "cell_type": "code",
   "execution_count": null,
   "metadata": {},
   "outputs": [],
   "source": [
    "# MCTS.a0eng2.a0_eng.batnor91.variables"
   ]
  },
  {
   "cell_type": "code",
   "execution_count": null,
   "metadata": {},
   "outputs": [],
   "source": [
    "npz_t=np.load(\"./games/dat_train1.npz\")\n",
    "x_tr=npz_t['arr_0']\n",
    "y_tr=npz_t['arr_1']\n",
    "print(len(y_tr))\n",
    "print(np.average(y_tr[:,-1]))"
   ]
  },
  {
   "cell_type": "code",
   "execution_count": null,
   "metadata": {},
   "outputs": [],
   "source": [
    "i=0"
   ]
  },
  {
   "cell_type": "code",
   "execution_count": null,
   "metadata": {},
   "outputs": [],
   "source": [
    "MCTS.showHeatMap(x_tr[i],y_tr[i],MCTS.a0eng.a0_eng(np.array([x_tr[i]]))[0].numpy())\n",
    "i+=1"
   ]
  },
  {
   "cell_type": "code",
   "execution_count": null,
   "metadata": {},
   "outputs": [],
   "source": [
    "i-=2"
   ]
  },
  {
   "cell_type": "code",
   "execution_count": null,
   "metadata": {},
   "outputs": [],
   "source": [
    "y_tr[i]"
   ]
  },
  {
   "cell_type": "code",
   "execution_count": null,
   "metadata": {},
   "outputs": [],
   "source": [
    "xt=np.zeros([15,15,2])\n",
    "xt[5,7,0]=1\n",
    "xt[6,8,1]=1\n",
    "xt[6,6,0]=1\n",
    "xt[4,8,1]=1\n",
    "xt[7,7,0]=1\n",
    "xt[5,8,1]=1\n",
    "xt[3,8,0]=1\n",
    "xt[4,7,1]=1\n",
    "xt[6,9,0]=1\n",
    "xt[4,9,1]=1\n",
    "xt[4,10,0]=1\n",
    "xt[4,5,1]=1\n",
    "xt[4,6,0]=1\n",
    "xt[6,7,1]=1\n",
    "xt[7,6,0]=1\n",
    "xt=np.flip(xt,-1)"
   ]
  },
  {
   "cell_type": "code",
   "execution_count": null,
   "metadata": {},
   "outputs": [],
   "source": [
    "MCTS.showHeatMap(xt,MCTS.a0eng.a0_eng(np.array([xt]))[0].numpy(),MCTS.a0eng2.a0_eng(np.array([xt]))[0].numpy())"
   ]
  },
  {
   "cell_type": "code",
   "execution_count": null,
   "metadata": {},
   "outputs": [],
   "source": [
    "import numpy as np\n",
    "import matplotlib.pyplot as plt\n",
    "%config InlineBackend.figure_formats = ['svg']\n",
    "fp=open(\"trLog.log\",\"r\")\n",
    "lsv=[]\n",
    "pv=[]\n",
    "vv=[]\n",
    "lst=[]\n",
    "pt=[]\n",
    "vt=[]\n",
    "rr=[]\n",
    "dbl=[]\n",
    "while(True):\n",
    "    ss=fp.readline()\n",
    "    if(ss==\"\"):\n",
    "        break\n",
    "    es=ss.split()\n",
    "    if(\"training\" in es):\n",
    "        vv+=[float(es[-1])]\n",
    "        pv+=[float(es[-3])]\n",
    "        lsv+=[float(es[-5])]\n",
    "        vt+=[float(es[-7])]\n",
    "        pt+=[float(es[-9])]\n",
    "        lst+=[float(es[-11])]\n",
    "    elif(\"dbls\" in es):\n",
    "        rr+=[float(es[4])]\n",
    "        dbl+=[int(es[7])]\n",
    "fp.close()\n",
    "\n",
    "elo=[]\n",
    "elot=[]\n",
    "elo_teacher=1500.0\n",
    "def rrt2elo(rat,el_tr):\n",
    "    rrat=min(max(0.05,rat),0.95)\n",
    "    return el_tr-np.log10((1-rrat)/rrat)*400\n",
    "for i in range(len(dbl)):\n",
    "    elo+=[rrt2elo(rr[i]/64,elo_teacher)]\n",
    "    elot+=[elo_teacher]\n",
    "    if(rr[i]-dbl[i]/2>32):\n",
    "        elo_teacher=elo[-1]\n",
    "\n",
    "_, ((ax1,ax2),(ax3,ax4)) = plt.subplots(2,2,figsize=(7/.618,7))\n",
    "ax1.plot(lst)\n",
    "ax1.plot(lsv)\n",
    "ax1.grid(which='both')\n",
    "ax1.set_title(\"loss\")\n",
    "ax2.plot(pt)\n",
    "ax2.plot(pv)\n",
    "ax2.grid(which='both')\n",
    "ax2.set_title(\"p accuracy\")\n",
    "ax3.plot(vt)\n",
    "ax3.plot(vv)\n",
    "ax3.grid(which='both')\n",
    "ax3.set_title(\"v accuracy\")\n",
    "ax4.plot(elot)\n",
    "ax4.plot(elo)\n",
    "ax4.grid(which='both')\n",
    "ax4.set_title(\"elo rating\")\n",
    "plt.show()"
   ]
  },
  {
   "cell_type": "code",
   "execution_count": null,
   "metadata": {},
   "outputs": [],
   "source": [
    "if(os.path.isfile(\"./games/dat_trprev.npz\")):\n",
    "    npz_t=np.load(\"./games/dat_trprev.npz\")\n",
    "    x_tr=npz_t['arr_0']\n",
    "    y_tr=npz_t['arr_1']\n",
    "    print(\"load cached data: %d\"%(len(y_tr)))\n",
    "    npz_t=np.load(\"./games/dat_train1.npz\")\n",
    "    x_tr=np.concatenate((x_tr,npz_t['arr_0']))\n",
    "    y_tr=np.concatenate((y_tr,npz_t['arr_1']))\n",
    "else:\n",
    "    npz_t=np.load(\"./games/dat_train1.npz\")\n",
    "    x_tr=npz_t['arr_0']\n",
    "    y_tr=npz_t['arr_1']\n",
    "\n",
    "npz_v=np.load(\"./games/dat_vlidn1.npz\")\n",
    "x_vl=npz_v['arr_0']\n",
    "y_vl=npz_v['arr_1']\n",
    "\n",
    "for ii in range(2,33):\n",
    "    nf=\"./games/dat_train\"+str(ii)+\".npz\"\n",
    "    if(os.path.exists(nf)):\n",
    "        npz_t=np.load(nf)\n",
    "        x_tr=np.concatenate((x_tr,npz_t['arr_0']))\n",
    "        y_tr=np.concatenate((y_tr,npz_t['arr_1']))\n",
    "    nf=\"./games/dat_vlidn\"+str(ii)+\".npz\"\n",
    "    if(os.path.exists(nf)):\n",
    "        npz_v=np.load(nf)\n",
    "        x_vl=np.concatenate((x_vl,npz_v['arr_0']))\n",
    "        y_vl=np.concatenate((y_vl,npz_v['arr_1']))"
   ]
  },
  {
   "cell_type": "code",
   "execution_count": null,
   "metadata": {},
   "outputs": [],
   "source": [
    "bz=256\n",
    "sg=np.std(x_tr,axis=(0,1,2))\n",
    "mu=np.mean(x_tr,axis=(0,1,2))\n",
    "for i in range(25):\n",
    "    bsg=np.std(x_tr[bz*i:bz*(i+1)],axis=(0,1,2))\n",
    "    bmu=np.mean(x_tr[bz*i:bz*(i+1)],axis=(0,1,2))\n",
    "    print(bsg/sg,(bmu-mu)/sg)\n",
    "    if(bz*(i+1)>len(y_tr)):\n",
    "        break"
   ]
  },
  {
   "cell_type": "code",
   "execution_count": null,
   "metadata": {},
   "outputs": [],
   "source": []
  }
 ]
}