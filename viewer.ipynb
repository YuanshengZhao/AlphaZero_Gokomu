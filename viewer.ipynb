{
 "metadata": {
  "language_info": {
   "codemirror_mode": {
    "name": "ipython",
    "version": 3
   },
   "file_extension": ".py",
   "mimetype": "text/x-python",
   "name": "python",
   "nbconvert_exporter": "python",
   "pygments_lexer": "ipython3",
   "version": "3.7.3-final"
  },
  "orig_nbformat": 2,
  "kernelspec": {
   "name": "python3",
   "display_name": "Python 3",
   "language": "python"
  }
 },
 "nbformat": 4,
 "nbformat_minor": 2,
 "cells": [
  {
   "cell_type": "code",
   "execution_count": null,
   "metadata": {
    "tags": []
   },
   "outputs": [],
   "source": [
    "import numpy as np\n",
    "import MCTS\n",
    "import naiveRule\n",
    "import matplotlib.pyplot as plt\n",
    "import RNG\n",
    "import struct\n",
    "%config InlineBackend.figure_formats = ['svg']"
   ]
  },
  {
   "cell_type": "code",
   "execution_count": null,
   "metadata": {
    "tags": []
   },
   "outputs": [],
   "source": [
    "%%capture\n",
    "MCTS.loadEngine(1,\"./weights/RNG64.tf\")\n",
    "MCTS.loadEngine(2,\"./RNG64.tf\")"
   ]
  },
  {
   "cell_type": "code",
   "execution_count": null,
   "metadata": {},
   "outputs": [],
   "source": [
    "fn=\"games/gm5.x\"\n",
    "sz=os.stat(fn).st_size//4\n",
    "fp=open(fn,\"rb\")\n",
    "x_tr=struct.unpack('f'*sz, fp.read(4*sz))\n",
    "x_tr=np.reshape(x_tr,[sz//450,15,15,2])\n",
    "fp.close()\n",
    "fn=\"games/gm5.y\"\n",
    "sz=os.stat(fn).st_size//4\n",
    "fp=open(fn,\"rb\")\n",
    "y_tr=struct.unpack('f'*sz, fp.read(4*sz))\n",
    "y_tr=np.reshape(y_tr,[sz//226,226])\n",
    "fp.close()\n",
    "print(len(x_tr),len(y_tr))\n",
    "print(np.average(y_tr[:,-1]))\n",
    "idc=np.random.permutation(len(x_tr))\n",
    "print(MCTS.a0eng .a0_eng.evaluate(x_tr[idc],y_tr[idc],return_dict=True))\n",
    "print(MCTS.a0eng2.a0_eng.evaluate(x_tr[idc],y_tr[idc],return_dict=True))"
   ]
  },
  {
   "cell_type": "code",
   "execution_count": null,
   "metadata": {},
   "outputs": [],
   "source": [
    "npz_t=np.load(\"./games/dat_train0.npz\")\n",
    "x_tr=npz_t['arr_0']\n",
    "y_tr=npz_t['arr_1']\n",
    "print(len(y_tr))\n",
    "print(np.average(y_tr[:,-1]))\n",
    "idc=np.random.permutation(len(x_tr))\n",
    "print(MCTS.a0eng .a0_eng.evaluate(x_tr[idc],y_tr[idc],return_dict=True))\n",
    "print(MCTS.a0eng2.a0_eng.evaluate(x_tr[idc],y_tr[idc],return_dict=True))"
   ]
  },
  {
   "cell_type": "code",
   "execution_count": null,
   "metadata": {},
   "outputs": [],
   "source": [
    "i=0\n",
    "def maxprb(dat1,ivt):\n",
    "    yt=dat1**ivt\n",
    "    return np.sort(yt/np.sum(yt))[-2:]\n",
    "invT=np.linspace(.5,2.5,20)\n",
    "def drwPrb(dat1,dat2=None):\n",
    "    mxp=np.transpose(np.array([maxprb(dat1,it) for it in invT]))\n",
    "    plt.figure(figsize=(2.8,1.4))\n",
    "    for lns in mxp:\n",
    "        plt.plot(invT,lns,color=\"black\")\n",
    "    if dat2 is not None:\n",
    "        mxp=np.transpose(np.array([maxprb(dat2,it) for it in invT]))\n",
    "        for lns in mxp:\n",
    "            plt.plot(invT,lns,color=\"red\")\n",
    "    plt.grid()"
   ]
  },
  {
   "cell_type": "code",
   "execution_count": null,
   "metadata": {},
   "outputs": [],
   "source": [
    "nnrst=MCTS.a0eng.a0_eng(np.array([x_tr[i]]))[0].numpy()\n",
    "MCTS.showHeatMap(x_tr[i],y_tr[i],nnrst)\n",
    "drwPrb(y_tr[i,:-1],nnrst[:-1])\n",
    "i+=1"
   ]
  },
  {
   "cell_type": "code",
   "execution_count": null,
   "metadata": {},
   "outputs": [],
   "source": [
    "i-=2"
   ]
  },
  {
   "cell_type": "code",
   "execution_count": null,
   "metadata": {},
   "outputs": [],
   "source": [
    "xt=np.zeros([15,15,2])\n",
    "xt[5,7,0]=1\n",
    "xt[6,8,1]=1\n",
    "xt[6,6,0]=1\n",
    "xt[4,8,1]=1\n",
    "xt[7,7,0]=1\n",
    "xt[5,8,1]=1\n",
    "xt[3,8,0]=1\n",
    "xt[4,7,1]=1\n",
    "xt[6,9,0]=1\n",
    "xt[4,9,1]=1\n",
    "xt[4,10,0]=1\n",
    "xt[4,5,1]=1\n",
    "xt[4,6,0]=1\n",
    "xt[6,7,1]=1\n",
    "xt[7,6,0]=1\n",
    "xt=np.flip(xt,-1)"
   ]
  },
  {
   "cell_type": "code",
   "execution_count": null,
   "metadata": {},
   "outputs": [],
   "source": [
    "xt=np.zeros([15,15,2])\n",
    "xt[7,7,0]=1\n",
    "xt[6,7,1]=1\n",
    "xt[9,9,0]=1\n",
    "xt=np.flip(xt,-1)"
   ]
  },
  {
   "cell_type": "code",
   "execution_count": null,
   "metadata": {},
   "outputs": [],
   "source": [
    "MCTS.showHeatMap(xt,MCTS.a0eng.a0_eng(np.array([xt]))[0].numpy(),MCTS.a0eng2.a0_eng(np.array([xt]))[0].numpy())"
   ]
  },
  {
   "cell_type": "code",
   "execution_count": null,
   "metadata": {},
   "outputs": [],
   "source": [
    "import numpy as np\n",
    "import matplotlib.pyplot as plt\n",
    "%config InlineBackend.figure_formats = ['svg']\n",
    "fp=open(\"trLog.log\",\"r\")\n",
    "lsv=[]\n",
    "pv=[]\n",
    "vv=[]\n",
    "lst=[]\n",
    "pt=[]\n",
    "vt=[]\n",
    "rr=[]\n",
    "dbl=[]\n",
    "while(True):\n",
    "    ss=fp.readline()\n",
    "    if(ss==\"\"):\n",
    "        break\n",
    "    es=ss.split()\n",
    "    if(\"training\" in es):\n",
    "        vv+=[float(es[-1])]\n",
    "        pv+=[float(es[-3])]\n",
    "        lsv+=[float(es[-5])]\n",
    "        vt+=[float(es[-7])]\n",
    "        pt+=[float(es[-9])]\n",
    "        lst+=[float(es[-11])]\n",
    "    elif(\"dbls\" in es):\n",
    "        rr+=[float(es[4])]\n",
    "        dbl+=[int(es[7])]\n",
    "fp.close()\n",
    "\n",
    "elo=[]\n",
    "elot=[]\n",
    "elo_teacher=0.0\n",
    "def rrt2elo(rat,el_tr):\n",
    "    rrat=min(max(0.01,rat),0.99)\n",
    "    return el_tr-np.log10((1-rrat)/rrat)*400\n",
    "for i in range(len(dbl)):\n",
    "    elo+=[rrt2elo(rr[i]/64,elo_teacher)]\n",
    "    elot+=[elo_teacher]\n",
    "    if(rr[i]-dbl[i]/2>32):\n",
    "        elo_teacher=elo[-1]\n",
    "\n",
    "_, ((ax1,ax2),(ax3,ax4)) = plt.subplots(2,2,figsize=(7/.618,7))\n",
    "ax1.plot(lst)\n",
    "ax1.plot(lsv)\n",
    "ax1.grid(which='both')\n",
    "ax1.set_title(\"loss\")\n",
    "ax1.set_ylim([0,np.min(lsv)*2])\n",
    "ax2.plot(pt)\n",
    "ax2.plot(pv)\n",
    "ax2.grid(which='both')\n",
    "ax2.set_title(\"p accuracy\")\n",
    "ax2.set_ylim([.0,(1+max(np.max(pv),np.max(pt)))/2])\n",
    "ax3.plot(vt)\n",
    "ax3.plot(vv)\n",
    "ax3.grid(which='both')\n",
    "ax3.set_title(\"v accuracy\")\n",
    "ax3.set_ylim([.45,(1+max(np.max(vv),np.max(vt)))/2])\n",
    "ax4.plot(elot)\n",
    "ax4.plot(elo)\n",
    "ax4.grid(which='both')\n",
    "ax4.set_title(\"elo rating\")\n",
    "ax4.set_ylim([max(elo[-1],elot[-1])*.5,max(elo[-1],elot[-1])*1.05])\n",
    "plt.savefig(\"training.pdf\")"
   ]
  },
  {
   "cell_type": "code",
   "execution_count": null,
   "metadata": {},
   "outputs": [],
   "source": [
    "if(os.path.isfile(\"./games/dat_trprev.npz\")):\n",
    "    npz_t=np.load(\"./games/dat_trprev.npz\")\n",
    "    x_tr=npz_t['arr_0']\n",
    "    y_tr=npz_t['arr_1']\n",
    "    print(\"load cached data: %d\"%(len(y_tr)))\n",
    "    npz_t=np.load(\"./games/dat_train1.npz\")\n",
    "    x_tr=np.concatenate((x_tr,npz_t['arr_0']))\n",
    "    y_tr=np.concatenate((y_tr,npz_t['arr_1']))\n",
    "else:\n",
    "    npz_t=np.load(\"./games/dat_train1.npz\")\n",
    "    x_tr=npz_t['arr_0']\n",
    "    y_tr=npz_t['arr_1']\n",
    "\n",
    "npz_v=np.load(\"./games/dat_vlidn1.npz\")\n",
    "x_vl=npz_v['arr_0']\n",
    "y_vl=npz_v['arr_1']\n",
    "\n",
    "for ii in range(2,33):\n",
    "    nf=\"./games/dat_train\"+str(ii)+\".npz\"\n",
    "    if(os.path.exists(nf)):\n",
    "        npz_t=np.load(nf)\n",
    "        x_tr=np.concatenate((x_tr,npz_t['arr_0']))\n",
    "        y_tr=np.concatenate((y_tr,npz_t['arr_1']))\n",
    "    nf=\"./games/dat_vlidn\"+str(ii)+\".npz\"\n",
    "    if(os.path.exists(nf)):\n",
    "        npz_v=np.load(nf)\n",
    "        x_vl=np.concatenate((x_vl,npz_v['arr_0']))\n",
    "        y_vl=np.concatenate((y_vl,npz_v['arr_1']))"
   ]
  },
  {
   "cell_type": "code",
   "execution_count": null,
   "metadata": {},
   "outputs": [],
   "source": [
    "bz=256\n",
    "sg=np.std(x_tr,axis=(0,1,2))\n",
    "mu=np.mean(x_tr,axis=(0,1,2))\n",
    "for i in range(25):\n",
    "    bsg=np.std(x_tr[bz*i:bz*(i+1)],axis=(0,1,2))\n",
    "    bmu=np.mean(x_tr[bz*i:bz*(i+1)],axis=(0,1,2))\n",
    "    print(bsg/sg,(bmu-mu)/sg)\n",
    "    if(bz*(i+1)>len(y_tr)):\n",
    "        break"
   ]
  },
  {
   "cell_type": "code",
   "execution_count": null,
   "metadata": {
    "tags": [
     "outputPrepend"
    ]
   },
   "outputs": [],
   "source": [
    "%%capture\n",
    "nw=0\n",
    "wts=[]\n",
    "while(os.path.isfile(\"./weights/RNG64_%d.tf.index\"%(nw+1))):\n",
    "    wts.append(RNG.A0_ENG(64,\"./weights/RNG64_%d.tf\"%(nw+1)).a0_eng.get_weights())\n",
    "    nw+=1\n",
    "nw+=1\n",
    "wts.append(RNG.A0_ENG(64,\"./RNG64.tf\").a0_eng.get_weights())"
   ]
  },
  {
   "cell_type": "code",
   "execution_count": null,
   "metadata": {},
   "outputs": [],
   "source": [
    "for ele in range(50):\n",
    "    idx=tuple(np.random.randint(dd) for dd in wts[0][ele].shape)\n",
    "    plt.plot([wts[i][ele][idx] for i in range(nw)])"
   ]
  },
  {
   "cell_type": "code",
   "execution_count": null,
   "metadata": {},
   "outputs": [],
   "source": [
    "for ele in range(-50,0):\n",
    "    plt.plot([np.sqrt(np.mean(wts[i][ele]**2)) for i in range(nw)])"
   ]
  },
  {
   "cell_type": "code",
   "execution_count": null,
   "metadata": {},
   "outputs": [],
   "source": [
    "def drawEval(no,ax):\n",
    "    fp=open(\"./eval/gm%d.txt\"%(no),\"r\")\n",
    "    # fp.readline()\n",
    "    mv=[]\n",
    "    op=[]\n",
    "    while(True):\n",
    "        tx=fp.readline()\n",
    "        if(tx==\"\"):\n",
    "            break\n",
    "        ss=tx.split()\n",
    "        if(len(ss)==7):\n",
    "            mv.append([int(ss[0]),int(ss[1]),float(ss[4])])\n",
    "        if(\"b\" in ss):\n",
    "            op.append([int(ss[2]),int(ss[3])])\n",
    "    fp.close()\n",
    "    spl=1\n",
    "    while(mv[spl][0]>mv[spl-1][0]):\n",
    "        spl+=1\n",
    "    for i in range(len(mv)):\n",
    "        mv[i][2]=mv[i][2] if mv[i][1] else 1.0-mv[i][2]\n",
    "    eng1=np.transpose([[mv[i][0],mv[i][2]] for i in range(len(mv)) if mv[i][1]==1])\n",
    "    eng2=np.transpose([[mv[i][0],mv[i][2]] for i in range(len(mv)) if mv[i][1]==0])\n",
    "    gm1=np.transpose(mv[:spl])\n",
    "    gm2=np.transpose(mv[spl:])\n",
    "    ax.plot(gm1[0],gm1[2]*2-1,\"cyan\")\n",
    "    ax.plot(gm2[0],gm2[2]*2-1,\"magenta\")\n",
    "    ax.plot(eng1[0],eng1[1]*2-1,\"ro\",label=\"New\",markersize=4)\n",
    "    ax.plot(eng2[0],eng2[1]*2-1,\"bv\",label=\"Old\",markersize=4)\n",
    "    ax.grid()\n",
    "    ax.set_ylim(-1.1,1.1)\n",
    "    ax.set_title(str(op[:len(op)//2]))\n",
    "    # ax.legend()"
   ]
  },
  {
   "cell_type": "code",
   "execution_count": null,
   "metadata": {},
   "outputs": [],
   "source": [
    "_,axs=plt.subplots(8,4,figsize=(14,28))\n",
    "for k in range(8):\n",
    "    for l in range(4):\n",
    "        drawEval(k*4+l+1,axs[k][l])\n",
    "plt.savefig(\"evals.pdf\")"
   ]
  },
  {
   "cell_type": "code",
   "execution_count": null,
   "metadata": {},
   "outputs": [],
   "source": []
  }
 ]
}